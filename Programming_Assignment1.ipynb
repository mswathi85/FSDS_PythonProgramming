{
 "cells": [
  {
   "cell_type": "markdown",
   "metadata": {},
   "source": [
    "#### 1. Write a Python program to print \"Hello Python\"? "
   ]
  },
  {
   "cell_type": "code",
   "execution_count": 2,
   "metadata": {},
   "outputs": [
    {
     "name": "stdout",
     "output_type": "stream",
     "text": [
      "Enter a value : Hello Python\n",
      "Hello Python\n"
     ]
    }
   ],
   "source": [
    "hello_prog = input(\"Enter a value : \")\n",
    "print(hello_prog)"
   ]
  },
  {
   "cell_type": "markdown",
   "metadata": {},
   "source": [
    "#### 2. Write a Python program to do arithmetical operations addition and division.?"
   ]
  },
  {
   "cell_type": "code",
   "execution_count": 4,
   "metadata": {
    "scrolled": true
   },
   "outputs": [
    {
     "name": "stdout",
     "output_type": "stream",
     "text": [
      "Enter a number : 4565\n",
      "Enter a number : 25\n",
      "Enter an operation : division\n",
      "The division is  182.6\n"
     ]
    }
   ],
   "source": [
    "a = int(input(\"Enter a number : \"))\n",
    "b = int(input(\"Enter a number : \"))\n",
    "c = input(\"Enter an operation : \")\n",
    "if c == \"addition\":\n",
    "    d = a + b\n",
    "    print(\"The addition is \", d)\n",
    "elif c == \"division\":\n",
    "    d = a/b\n",
    "    print(\"The division is \", d)\n",
    "else:\n",
    "    Print(\"Enter the correct operation\")"
   ]
  },
  {
   "cell_type": "code",
   "execution_count": 9,
   "metadata": {},
   "outputs": [
    {
     "name": "stdout",
     "output_type": "stream",
     "text": [
      "Enter a number : 45\n",
      "Enter a number : 56\n",
      "Enter an operation : addition\n",
      "The addition is  101\n"
     ]
    }
   ],
   "source": [
    "a = int(input(\"Enter a number : \"))\n",
    "b = int(input(\"Enter a number : \"))\n",
    "c = input(\"Enter an operation : \")\n",
    "if c == \"addition\":\n",
    "    d = a + b\n",
    "    print(\"The addition is \", d)\n",
    "elif c == \"division\":\n",
    "    d = a/b\n",
    "    print(\"The division is \", d)\n",
    "else:\n",
    "    Print(\"Enter the correct operation\")"
   ]
  },
  {
   "cell_type": "code",
   "execution_count": 11,
   "metadata": {},
   "outputs": [
    {
     "name": "stdout",
     "output_type": "stream",
     "text": [
      "Enter a number : 45\n",
      "Enter a number : 14\n",
      "Enter an operation : substraction\n",
      "Enter the correct operation\n"
     ]
    }
   ],
   "source": [
    "a = int(input(\"Enter a number : \"))\n",
    "b = int(input(\"Enter a number : \"))\n",
    "c = input(\"Enter an operation : \")\n",
    "if c == \"addition\":\n",
    "    d = a + b\n",
    "    print(\"The addition is \", d)\n",
    "elif c == \"division\":\n",
    "    d = a/b\n",
    "    print(\"The division is \", d)\n",
    "else:\n",
    "    print(\"Enter the correct operation\")"
   ]
  },
  {
   "cell_type": "markdown",
   "metadata": {},
   "source": [
    "#### 3. Write a Python program to find the area of a triangle?\n"
   ]
  },
  {
   "cell_type": "code",
   "execution_count": 8,
   "metadata": {},
   "outputs": [
    {
     "name": "stdout",
     "output_type": "stream",
     "text": [
      "The area is 144.0\n"
     ]
    }
   ],
   "source": [
    "def area(base,ht):\n",
    "    triangle_area = (1/2)* base * ht\n",
    "    print(\"The area is\", triangle_area)\n",
    "area(24,12)    "
   ]
  },
  {
   "cell_type": "markdown",
   "metadata": {},
   "source": [
    "#### 4. Write a Python program to swap two variables? "
   ]
  },
  {
   "cell_type": "code",
   "execution_count": 8,
   "metadata": {},
   "outputs": [],
   "source": [
    "def swap(a,b):\n",
    "    print(\"The original numbers are :\", a, b)    \n",
    "    temp = a \n",
    "    a = b\n",
    "    b = temp\n",
    "    print(\"The swapped numbers are :\", a, b)\n",
    "    "
   ]
  },
  {
   "cell_type": "code",
   "execution_count": 9,
   "metadata": {},
   "outputs": [
    {
     "name": "stdout",
     "output_type": "stream",
     "text": [
      "The original numbers are : 12 21\n",
      "The swapped numbers are : 21 12\n"
     ]
    }
   ],
   "source": [
    "swap(12,21)\n"
   ]
  },
  {
   "cell_type": "markdown",
   "metadata": {},
   "source": [
    "#### 5. Write a Python program to generate a random number? "
   ]
  },
  {
   "cell_type": "code",
   "execution_count": 10,
   "metadata": {},
   "outputs": [
    {
     "name": "stdout",
     "output_type": "stream",
     "text": [
      "0.08325884129490257\n"
     ]
    }
   ],
   "source": [
    "import random\n",
    "random_number = random.random()\n",
    "print(random_number)"
   ]
  },
  {
   "cell_type": "code",
   "execution_count": 1,
   "metadata": {},
   "outputs": [
    {
     "name": "stdout",
     "output_type": "stream",
     "text": [
      "Enter the first range: 10\n",
      "Enter the second range: 36\n",
      "The Random number is:  33\n"
     ]
    }
   ],
   "source": [
    "import random\n",
    "a = int(input(\"Enter the first range: \"))\n",
    "b = int(input(\"Enter the second range: \"))\n",
    "print(\"The Random number is: \", random.randint(a,b))"
   ]
  },
  {
   "cell_type": "code",
   "execution_count": null,
   "metadata": {},
   "outputs": [],
   "source": []
  }
 ],
 "metadata": {
  "kernelspec": {
   "display_name": "Python 3",
   "language": "python",
   "name": "python3"
  },
  "language_info": {
   "codemirror_mode": {
    "name": "ipython",
    "version": 3
   },
   "file_extension": ".py",
   "mimetype": "text/x-python",
   "name": "python",
   "nbconvert_exporter": "python",
   "pygments_lexer": "ipython3",
   "version": "3.8.5"
  }
 },
 "nbformat": 4,
 "nbformat_minor": 4
}
