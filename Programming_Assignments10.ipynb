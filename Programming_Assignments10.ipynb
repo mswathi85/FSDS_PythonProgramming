{
 "cells": [
  {
   "cell_type": "markdown",
   "id": "66338592",
   "metadata": {},
   "source": [
    "#### 1. Write a Python program to find sum of elements in list?"
   ]
  },
  {
   "cell_type": "code",
   "execution_count": 39,
   "id": "bbb9284e",
   "metadata": {},
   "outputs": [],
   "source": [
    "sum = 0\n",
    "arr = []\n",
    "n = int(input(\"Enter no.of elements:\"))\n",
    "\n",
    "for j in range(n):\n",
    "    a = int(input())\n",
    "    arr.append(a)\n",
    "\n",
    "\n",
    "for i in range(0,len(arr)):\n",
    "\n",
    "    sum  = sum + arr[i]\n",
    "print(sum)"
   ]
  },
  {
   "cell_type": "code",
   "execution_count": 40,
   "id": "da411097",
   "metadata": {},
   "outputs": [
    {
     "name": "stdout",
     "output_type": "stream",
     "text": [
      "Enter no.of elements:5\n",
      "1\n",
      "2\n",
      "3\n",
      "4\n",
      "5\n"
     ]
    },
    {
     "data": {
      "text/plain": [
       "15"
      ]
     },
     "execution_count": 40,
     "metadata": {},
     "output_type": "execute_result"
    }
   ],
   "source": [
    "add_list([1,2,3,4])"
   ]
  },
  {
   "cell_type": "markdown",
   "id": "435892dc",
   "metadata": {},
   "source": [
    "#### 2. Write a Python program to Multiply all numbers in the list?\n"
   ]
  },
  {
   "cell_type": "code",
   "execution_count": 46,
   "id": "4edd2377",
   "metadata": {},
   "outputs": [
    {
     "name": "stdout",
     "output_type": "stream",
     "text": [
      "Enter no.of elements:4\n",
      "1\n",
      "2\n",
      "3\n",
      "4\n",
      "24\n"
     ]
    }
   ],
   "source": [
    "sum = 1\n",
    "arr = []\n",
    "n = int(input(\"Enter no.of elements:\"))\n",
    "\n",
    "for j in range(n):\n",
    "    a = int(input())\n",
    "    arr.append(a)\n",
    "\n",
    "\n",
    "for i in range(0,len(arr)):\n",
    "\n",
    "    sum  = sum * arr[i]\n",
    "print(sum)"
   ]
  },
  {
   "cell_type": "markdown",
   "id": "a29a6f98",
   "metadata": {},
   "source": [
    "#### 3. Write a Python program to find smallest number in a list?"
   ]
  },
  {
   "cell_type": "code",
   "execution_count": 49,
   "id": "0a7eb366",
   "metadata": {},
   "outputs": [
    {
     "name": "stdout",
     "output_type": "stream",
     "text": [
      "Enter no.of elements:5\n",
      "3\n",
      "5\n",
      "6\n",
      "8\n",
      "9\n",
      "The smallest number is: 3\n"
     ]
    }
   ],
   "source": [
    "arr = []\n",
    "n = int(input(\"Enter no.of elements:\"))\n",
    "\n",
    "for j in range(n):\n",
    "    a = int(input())\n",
    "    arr.append(a)\n",
    "print(\"The smallest number is:\",min(arr))"
   ]
  },
  {
   "cell_type": "markdown",
   "id": "4186052e",
   "metadata": {},
   "source": [
    "#### 4. Write a Python program to find largest number in a list?"
   ]
  },
  {
   "cell_type": "code",
   "execution_count": 1,
   "id": "a5261e80",
   "metadata": {},
   "outputs": [
    {
     "name": "stdout",
     "output_type": "stream",
     "text": [
      "Enter no.of elements:6\n",
      "5\n",
      "9\n",
      "95\n",
      "105\n",
      "5\n",
      "6\n",
      "The smallest number is: 105\n"
     ]
    }
   ],
   "source": [
    "arr = []\n",
    "n = int(input(\"Enter no.of elements:\"))\n",
    "\n",
    "for j in range(n):\n",
    "    a = int(input())\n",
    "    arr.append(a)\n",
    "print(\"The largest number is:\",max(arr))"
   ]
  },
  {
   "cell_type": "markdown",
   "id": "1cc8b0b4",
   "metadata": {},
   "source": [
    "#### 5. Write a Python program to find second largest number in a list?"
   ]
  },
  {
   "cell_type": "code",
   "execution_count": 2,
   "id": "1e209b30",
   "metadata": {},
   "outputs": [
    {
     "name": "stdout",
     "output_type": "stream",
     "text": [
      "Enter number of elements in list: 5\n",
      "12\n",
      "25\n",
      "36\n",
      "21\n",
      "82\n",
      "Second largest element is: 36\n"
     ]
    }
   ],
   "source": [
    "list_val = []  \n",
    "num_list = int(input(\"Enter number of elements in list: \"))  \n",
    "  \n",
    "for i in range(1, num_list + 1):\n",
    "    \n",
    "    element = int(input())  \n",
    "    list_val.append(element)\n",
    "    \n",
    "list_val.sort()  \n",
    "      \n",
    "print(\"Second largest element is:\", list_val[-2])  "
   ]
  },
  {
   "cell_type": "markdown",
   "id": "ddc07445",
   "metadata": {},
   "source": [
    "#### 6. Write a Python program to find N largest elements from a list?\n"
   ]
  },
  {
   "cell_type": "code",
   "execution_count": 3,
   "id": "44e72b2b",
   "metadata": {},
   "outputs": [
    {
     "data": {
      "text/plain": [
       "[36, 25, 19]"
      ]
     },
     "execution_count": 3,
     "metadata": {},
     "output_type": "execute_result"
    }
   ],
   "source": [
    "def N_max_elements(list, N):\n",
    "    result_list = []\n",
    "  \n",
    "    for i in range(0, N): \n",
    "        maximum = 0\n",
    "          \n",
    "        for j in range(len(list)):     \n",
    "            if list[j] > maximum:\n",
    "                maximum = list[j]\n",
    "                  \n",
    "        list.remove(maximum)\n",
    "        result_list.append(maximum)\n",
    "          \n",
    "    return result_list\n",
    "\n",
    "N_max_elements([12, 15, 13,18, 19, 25, 36,15], 3)"
   ]
  },
  {
   "cell_type": "markdown",
   "id": "a4fdff5d",
   "metadata": {},
   "source": [
    "#### 7. Write a Python program to print even numbers in a list?\n"
   ]
  },
  {
   "cell_type": "code",
   "execution_count": 25,
   "id": "718c4eca",
   "metadata": {},
   "outputs": [
    {
     "name": "stdout",
     "output_type": "stream",
     "text": [
      "Enter no.of elements:5\n",
      "2\n",
      "3\n",
      "6\n",
      "5\n",
      "4\n",
      "The elements in the list is : [2, 3, 4, 5, 6]\n",
      "2 4 6 "
     ]
    }
   ],
   "source": [
    "arr = []\n",
    "n = int(input(\"Enter no.of elements:\"))\n",
    "\n",
    "for j in range(n):\n",
    "    a = int(input())\n",
    "    arr.append(a)\n",
    "    arr.sort()\n",
    "print(\"The elements in the list is :\",arr)\n",
    "    \n",
    "for j in arr:\n",
    "    if j%2 == 0:\n",
    "        \n",
    "       \n",
    "        print(j, end = \" \")"
   ]
  },
  {
   "cell_type": "markdown",
   "id": "9bf30f0c",
   "metadata": {},
   "source": [
    "#### 8. Write a Python program to print odd numbers in a List?"
   ]
  },
  {
   "cell_type": "code",
   "execution_count": 18,
   "id": "a8643e4e",
   "metadata": {},
   "outputs": [
    {
     "name": "stdout",
     "output_type": "stream",
     "text": [
      "Enter no.of elements:5\n",
      "2\n",
      "3\n",
      "1\n",
      "4\n",
      "5\n",
      "The elements in the list is : [1, 2, 3, 4, 5]\n",
      "The odd numbers in the list : 1\n",
      "The odd numbers in the list : 3\n",
      "The odd numbers in the list : 5\n"
     ]
    }
   ],
   "source": [
    "arr = []\n",
    "n = int(input(\"Enter no.of elements:\"))\n",
    "\n",
    "for j in range(n):\n",
    "    a = int(input())\n",
    "    arr.append(a)\n",
    "    arr.sort()\n",
    "print(\"The elements in the list is :\",arr)\n",
    "    \n",
    "for j in arr:\n",
    "    if j%2 != 0:\n",
    "       \n",
    "        print(\"The odd numbers in the list :\", j, end = \" \")"
   ]
  },
  {
   "cell_type": "markdown",
   "id": "27c7e7a7",
   "metadata": {},
   "source": [
    "#### 9. Write a Python program to Remove empty List from List?"
   ]
  },
  {
   "cell_type": "code",
   "execution_count": 28,
   "id": "f968b522",
   "metadata": {},
   "outputs": [
    {
     "data": {
      "text/plain": [
       "[1, 2, 3, 5]"
      ]
     },
     "execution_count": 28,
     "metadata": {},
     "output_type": "execute_result"
    }
   ],
   "source": [
    "def remove_lst(lst):\n",
    "    lst=[ num for num in lst if num]\n",
    "    return lst\n",
    "lst = [[], 1, 2, 3, 5]\n",
    "remove_lst(lst)"
   ]
  },
  {
   "cell_type": "markdown",
   "id": "26d19e17",
   "metadata": {},
   "source": [
    "#### 10. Write a Python program to Cloning or Copying a list?"
   ]
  },
  {
   "cell_type": "code",
   "execution_count": 31,
   "id": "8b28a5ee",
   "metadata": {},
   "outputs": [
    {
     "name": "stdout",
     "output_type": "stream",
     "text": [
      "Enter no.of elements:5\n",
      "6\n",
      "3\n",
      "2\n",
      "5\n",
      "8\n",
      "The list is : [2, 3, 5, 6, 8]\n",
      "The copied list is : [2, 3, 5, 6, 8]\n"
     ]
    }
   ],
   "source": [
    "arr = []\n",
    "n = int(input(\"Enter no.of elements:\"))\n",
    "\n",
    "for j in range(n):\n",
    "    a = int(input())\n",
    "    arr.append(a)\n",
    "    arr.sort()\n",
    "print(\"The list is :\",arr)\n",
    "lst_copy = arr\n",
    "print(\"The copied list is :\",lst_copy)"
   ]
  },
  {
   "cell_type": "markdown",
   "id": "876650f0",
   "metadata": {},
   "source": [
    "#### 11. Write a Python program to Count occurrences of an element in a list?"
   ]
  },
  {
   "cell_type": "code",
   "execution_count": 3,
   "id": "9702c187",
   "metadata": {},
   "outputs": [
    {
     "data": {
      "text/plain": [
       "'3 has occured 3 times'"
      ]
     },
     "execution_count": 3,
     "metadata": {},
     "output_type": "execute_result"
    }
   ],
   "source": [
    "def countX(lst, x):\n",
    "    count = 0\n",
    "    for ele in lst:\n",
    "        if (ele == x):\n",
    "            count = count + 1\n",
    "    return \"{} has occured {} times\".format(x,count)\n",
    "countX([1,2,3,3,3,4,5,5],3)"
   ]
  },
  {
   "cell_type": "code",
   "execution_count": null,
   "id": "badc7525",
   "metadata": {},
   "outputs": [],
   "source": []
  }
 ],
 "metadata": {
  "kernelspec": {
   "display_name": "Python 3 (ipykernel)",
   "language": "python",
   "name": "python3"
  },
  "language_info": {
   "codemirror_mode": {
    "name": "ipython",
    "version": 3
   },
   "file_extension": ".py",
   "mimetype": "text/x-python",
   "name": "python",
   "nbconvert_exporter": "python",
   "pygments_lexer": "ipython3",
   "version": "3.9.7"
  }
 },
 "nbformat": 4,
 "nbformat_minor": 5
}
