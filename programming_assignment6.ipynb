{
 "cells": [
  {
   "cell_type": "markdown",
   "id": "b3e1129e",
   "metadata": {},
   "source": [
    "#### 1. Write a Python Program to Display Fibonacci Sequence Using Recursion?"
   ]
  },
  {
   "cell_type": "code",
   "execution_count": 14,
   "id": "ad0a7b3c",
   "metadata": {},
   "outputs": [
    {
     "name": "stdout",
     "output_type": "stream",
     "text": [
      "Enter no.of terms:10\n",
      "0\n",
      "1\n",
      "1\n",
      "2\n",
      "3\n",
      "5\n",
      "8\n",
      "13\n",
      "21\n",
      "34\n"
     ]
    }
   ],
   "source": [
    "def fib_recursive(n):\n",
    "    if n <= 1:\n",
    "        return n \n",
    "    else:\n",
    "        return(fib_recursive(n - 1) + fib_recursive(n - 2))\n",
    "terms = int(input(\"Enter no.of terms:\"))\n",
    "for i in range(0,terms):\n",
    "    print(fib_recursive(i))"
   ]
  },
  {
   "cell_type": "markdown",
   "id": "a2f57632",
   "metadata": {},
   "source": [
    "#### 2. Write a Python Program to Find Factorial of Number Using Recursion?"
   ]
  },
  {
   "cell_type": "code",
   "execution_count": 15,
   "id": "e96da200",
   "metadata": {},
   "outputs": [
    {
     "name": "stdout",
     "output_type": "stream",
     "text": [
      "Enter a number: 5\n",
      "The factorial of 5 is 120\n"
     ]
    }
   ],
   "source": [
    "n= int(input(\"Enter a number: \"))\n",
    "def fact(n):\n",
    "    if n == 1:\n",
    "        return n\n",
    "    else:\n",
    "        return n*fact(n-1)\n",
    "\n",
    "if n < 0:\n",
    "       print(\"please enter positive number\")\n",
    "elif n == 0:\n",
    "       print(\"The factorial of 0 is 1\")\n",
    "else:\n",
    "       print(\"The factorial of\", n, \"is\", fact(n))"
   ]
  },
  {
   "cell_type": "markdown",
   "id": "b120f139",
   "metadata": {},
   "source": [
    "#### 3. Write a Python Program to calculate your Body Mass Index?"
   ]
  },
  {
   "cell_type": "code",
   "execution_count": 17,
   "id": "48175010",
   "metadata": {},
   "outputs": [
    {
     "name": "stdout",
     "output_type": "stream",
     "text": [
      "Input your height in Feet: 5.2\n",
      "Input your weight in Kilogram: 67\n",
      "Your body mass index is:  2.48\n"
     ]
    }
   ],
   "source": [
    "ht = float(input(\"Input your height in Feet: \"))\n",
    "wt = float(input(\"Input your weight in Kilogram: \"))\n",
    "print(\"Your body mass index is: \", round(wt / (ht * ht), 2))"
   ]
  },
  {
   "cell_type": "markdown",
   "id": "eab130b2",
   "metadata": {},
   "source": [
    "#### 4. Write a Python Program to calculate the natural logarithm of any number?"
   ]
  },
  {
   "cell_type": "code",
   "execution_count": 19,
   "id": "5c57956f",
   "metadata": {},
   "outputs": [
    {
     "name": "stdout",
     "output_type": "stream",
     "text": [
      "Enter a number:2\n",
      "The logarithm of the number is : 0.6931471805599453\n"
     ]
    }
   ],
   "source": [
    "import math\n",
    "\n",
    "n = int(input(\"Enter a number:\"))\n",
    "print(\"The logarithm of the number is :\",math.log(n))"
   ]
  },
  {
   "cell_type": "markdown",
   "id": "5dd4456e",
   "metadata": {},
   "source": [
    "#### 5. Write a Python Program for cube sum of first n natural numbers?"
   ]
  },
  {
   "cell_type": "code",
   "execution_count": 22,
   "id": "1b0f7c65",
   "metadata": {},
   "outputs": [
    {
     "data": {
      "text/plain": [
       "36"
      ]
     },
     "execution_count": 22,
     "metadata": {},
     "output_type": "execute_result"
    }
   ],
   "source": [
    "def cube_n(n):\n",
    "    temp = 0\n",
    "    \n",
    "    for i in range(1, n+1):\n",
    "        temp += i*i*i\n",
    "    return temp\n",
    "cube_n(3)"
   ]
  },
  {
   "cell_type": "code",
   "execution_count": 24,
   "id": "a29095b2",
   "metadata": {},
   "outputs": [
    {
     "data": {
      "text/plain": [
       "36"
      ]
     },
     "execution_count": 24,
     "metadata": {},
     "output_type": "execute_result"
    }
   ],
   "source": [
    "def cube(n):\n",
    "   \n",
    "    for i in range(1, n+1):\n",
    "        return int(((n**2) * ((n + 1 )**2))/4)\n",
    "        \n",
    "cube(3)"
   ]
  },
  {
   "cell_type": "code",
   "execution_count": null,
   "id": "96b209a1",
   "metadata": {},
   "outputs": [],
   "source": []
  }
 ],
 "metadata": {
  "kernelspec": {
   "display_name": "Python 3 (ipykernel)",
   "language": "python",
   "name": "python3"
  },
  "language_info": {
   "codemirror_mode": {
    "name": "ipython",
    "version": 3
   },
   "file_extension": ".py",
   "mimetype": "text/x-python",
   "name": "python",
   "nbconvert_exporter": "python",
   "pygments_lexer": "ipython3",
   "version": "3.9.7"
  }
 },
 "nbformat": 4,
 "nbformat_minor": 5
}
