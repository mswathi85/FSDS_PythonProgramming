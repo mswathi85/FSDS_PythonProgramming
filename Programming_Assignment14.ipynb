{
 "cells": [
  {
   "cell_type": "markdown",
   "id": "52c32586",
   "metadata": {},
   "source": [
    "#### Question 1:\n",
    "<b>Define a class with a generator which can iterate the numbers, which are divisible by 7, between a given range 0 and n."
   ]
  },
  {
   "cell_type": "code",
   "execution_count": 1,
   "id": "0533cbce",
   "metadata": {},
   "outputs": [
    {
     "name": "stdout",
     "output_type": "stream",
     "text": [
      "7 14 21 28 35 42 49 56 63 70 77 84 91 98 105 112 119 126 133 140 147 "
     ]
    }
   ],
   "source": [
    "class generator:\n",
    "    def __init__(self,n):\n",
    "        self.n = n\n",
    "    def divisible_7(self):\n",
    "        for i in range(self.n):\n",
    "            if i%7 == 0 and i > 0:\n",
    "                yield i\n",
    "output = generator(150)\n",
    "for value in output.divisible_7():\n",
    "    print(value, end = ' ')"
   ]
  },
  {
   "cell_type": "markdown",
   "id": "1aa7bc7c",
   "metadata": {},
   "source": [
    "#### Question 2:\n",
    "<b>Write a program to compute the frequency of the words from the input. The output should output after sorting the key alphanumerically</b>.\n",
    "<br>Suppose the following input is supplied to the program:\n",
    "<br>New to Python or choosing between Python 2 and Python 3? Read Python 2 or Python 3. \n",
    "<br>Then, the output should be:\n",
    "<br>2:2\n",
    "<br>3.:1\n",
    "<br>3?:1\n",
    "<br>New:1\n",
    "<br>Python:5\n",
    "<br>Read:1\n",
    "<br>and:1\n",
    "<br>between:1\n",
    "<br>choosing:1\n",
    "<br>or:2\n",
    "<br>to:1"
   ]
  },
  {
   "cell_type": "code",
   "execution_count": 3,
   "id": "7370c01d",
   "metadata": {},
   "outputs": [
    {
     "name": "stdout",
     "output_type": "stream",
     "text": [
      "Enter the string : New to Python or choosing between Python 2 and Python 3? Read Python 2 or Python 3\n",
      " 2 : 2\n",
      " 3 : 1\n",
      " 3? : 1\n",
      " New : 1\n",
      " Python : 5\n",
      " Read : 1\n",
      " and : 1\n",
      " between : 1\n",
      " choosing : 1\n",
      " or : 2\n",
      " to : 1\n"
     ]
    }
   ],
   "source": [
    "string = str(input(\"Enter the string : \")).split(\" \")\n",
    "frequency = sorted(set(string))\n",
    "for ele in frequency:\n",
    "    print(f' {ele} : {string.count(ele)}')"
   ]
  },
  {
   "cell_type": "markdown",
   "id": "da012094",
   "metadata": {},
   "source": [
    "#### Question 3:\n",
    "\n",
    "<b/> Define a class Person and its two child classes: Male and Female. All classes have a\n",
    "method &quot;getGender&quot; which can print &quot;Male&quot; for Male class and &quot;Female&quot; for Female\n",
    "class."
   ]
  },
  {
   "cell_type": "code",
   "execution_count": 4,
   "id": "d4174572",
   "metadata": {},
   "outputs": [
    {
     "name": "stdout",
     "output_type": "stream",
     "text": [
      "Male\n",
      "Female\n"
     ]
    }
   ],
   "source": [
    "class Person:\n",
    "    def getGender(self):\n",
    "        pass\n",
    "    \n",
    "class Male(Person):\n",
    "    def getGender():\n",
    "        print(\"Male\")\n",
    "        \n",
    "class Female(Person):\n",
    "    def getGender():\n",
    "        print(\"Female\")\n",
    "\n",
    "Male.getGender()\n",
    "Female.getGender()"
   ]
  },
  {
   "cell_type": "markdown",
   "id": "7bb1141f",
   "metadata": {},
   "source": [
    "#### Question 4:\n",
    "<b/> Please write a program to generate all sentences where subject is in [&quot;I&quot;, &quot;You&quot;] and\n",
    "verb is in [&quot;Play&quot;, &quot;Love&quot;] and the object is in [&quot;Hockey&quot;,&quot;Football&quot;]."
   ]
  },
  {
   "cell_type": "code",
   "execution_count": 5,
   "id": "0b65b83f",
   "metadata": {},
   "outputs": [
    {
     "name": "stdout",
     "output_type": "stream",
     "text": [
      "I Play Hockey\n",
      "I Play Football\n",
      "I Love Hockey\n",
      "I Love Football\n",
      "You Play Hockey\n",
      "You Play Football\n",
      "You Love Hockey\n",
      "You Love Football\n"
     ]
    }
   ],
   "source": [
    "subject = [\"I\", \"You\"]\n",
    "verb = [\"Play\", \"Love\"]\n",
    "objects = [\"Hockey\",\"Football\"]\n",
    "for s in subject:\n",
    "    for v in verb:\n",
    "        for o in objects:\n",
    "            print(f'{s} {v} {o}')\n",
    "    "
   ]
  },
  {
   "cell_type": "markdown",
   "id": "fc72716a",
   "metadata": {},
   "source": [
    "#### Question 5:\n",
    "<b/> Please write a program to compress and decompress the string &quot;hello world!hello\n",
    "world!hello world!hello world!&quot;."
   ]
  },
  {
   "cell_type": "code",
   "execution_count": 8,
   "id": "2f803546",
   "metadata": {},
   "outputs": [
    {
     "name": "stdout",
     "output_type": "stream",
     "text": [
      "Compressed:  b'x\\x9c\\xcbH\\xcd\\xc9\\xc9W(\\xcf/\\xcaIQ\\xcc \\x82\\r\\x00\\xbd[\\x11\\xf5'\n",
      "Decompressed:  b'hello world!hello world!hello world!hello world!'\n"
     ]
    }
   ],
   "source": [
    "import zlib\n",
    "text=\"hello world!hello world!hello world!hello world!\".encode()\n",
    "comp=zlib.compress(text)\n",
    "print(\"Compressed: \", comp)\n",
    "decomp=zlib.decompress(comp)\n",
    "print(\"Decompressed: \", decomp)"
   ]
  },
  {
   "cell_type": "markdown",
   "id": "8ecf644f",
   "metadata": {},
   "source": [
    "#### Question 6:\n",
    "<b/>Please write a binary search function which searches an item in a sorted list. The function should return the index of element to be searched in the list."
   ]
  },
  {
   "cell_type": "code",
   "execution_count": 17,
   "id": "6936b07d",
   "metadata": {},
   "outputs": [
    {
     "name": "stdout",
     "output_type": "stream",
     "text": [
      "2\n",
      "element not in list\n"
     ]
    }
   ],
   "source": [
    "def binarySearch(l, n):\n",
    "    \n",
    "    low = 0\n",
    "    high = len(l) - 1\n",
    "       \n",
    "    while low<=high:\n",
    "        mid = (low+high)//2\n",
    "        \n",
    "        if l[mid]<n:\n",
    "            low = mid+1\n",
    "        elif l[mid]>n:\n",
    "            high = mid-1\n",
    "        else:\n",
    "            return mid\n",
    "    return \"element not in list\"\n",
    "lst = [12,23,34,2,1,4,5,67]\n",
    "lst.sort()\n",
    "print(binarySearch(lst, 4))\n",
    "print(binarySearch(lst, 59))"
   ]
  },
  {
   "cell_type": "code",
   "execution_count": null,
   "id": "3ebed1ef",
   "metadata": {},
   "outputs": [],
   "source": []
  }
 ],
 "metadata": {
  "kernelspec": {
   "display_name": "Python 3 (ipykernel)",
   "language": "python",
   "name": "python3"
  },
  "language_info": {
   "codemirror_mode": {
    "name": "ipython",
    "version": 3
   },
   "file_extension": ".py",
   "mimetype": "text/x-python",
   "name": "python",
   "nbconvert_exporter": "python",
   "pygments_lexer": "ipython3",
   "version": "3.9.7"
  }
 },
 "nbformat": 4,
 "nbformat_minor": 5
}
