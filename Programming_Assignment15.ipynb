{
 "cells": [
  {
   "cell_type": "markdown",
   "id": "45e22585",
   "metadata": {},
   "source": [
    "#### Question 1:\n",
    "<b>Please write a program using generator to print the numbers which can be divisible by 5 and 7 between 0 and n in comma separated form while n is input by console.</b>\n",
    "<br>Example:\n",
    "<br>If the following n is given as input to the program:\n",
    "<br>100\n",
    "<br>Then, the output of the program should be:\n",
    "<br>0,35,70"
   ]
  },
  {
   "cell_type": "code",
   "execution_count": 23,
   "id": "ed5be738",
   "metadata": {},
   "outputs": [
    {
     "name": "stdout",
     "output_type": "stream",
     "text": [
      "Enter the value: 100\n",
      "0,35,70\n"
     ]
    }
   ],
   "source": [
    "def generator_number():\n",
    "    n = int(input(\"Enter the value: \"))\n",
    "    for i in range(n):\n",
    "        if i%5 == 0 and i%7 == 0:\n",
    "            yield(i)\n",
    "l = []\n",
    "for i in generator_number():\n",
    "    l.append(i)\n",
    "print(*l, sep = ',')\n"
   ]
  },
  {
   "cell_type": "markdown",
   "id": "42ff4b77",
   "metadata": {},
   "source": [
    "#### Question 2:\n",
    "<b>Please write a program using generator to print the even numbers between 0 and n in comma separated form while n is input by console</b>.\n",
    "<br>Example:\n",
    "<br>If the following n is given as input to the program:\n",
    "<br>10\n",
    "<br>Then, the output of the program should be:\n",
    "<br>0,2,4,6,8,10"
   ]
  },
  {
   "cell_type": "code",
   "execution_count": 26,
   "id": "398ae28e",
   "metadata": {},
   "outputs": [
    {
     "name": "stdout",
     "output_type": "stream",
     "text": [
      "Enter the value: 10\n",
      "0,2,4,6,8,10\n"
     ]
    }
   ],
   "source": [
    "def generator_number_even():\n",
    "    n = int(input(\"Enter the value: \"))\n",
    "    for i in range(0, n+1):\n",
    "        if i%2 == 0:\n",
    "            yield(i)\n",
    "l = []\n",
    "for i in generator_number_even():\n",
    "    l.append(i)\n",
    "print(*l, sep = ',')"
   ]
  },
  {
   "cell_type": "markdown",
   "id": "0ac13316",
   "metadata": {},
   "source": [
    "#### Question 3:\n",
    "<b>The Fibonacci Sequence is computed based on the following formula:</b>\n",
    "<br><br><br>f(n)=0 if n=0\n",
    "<br><br>f(n)=1 if n=1\n",
    "<br>f(n)=f(n-1)+f(n-2) if n&gt;1\n",
    "<br>Please write a program using list comprehension to print the Fibonacci Sequence in comma separated form with a given n input by console.\n",
    "<br><br><br>Example:\n",
    "<br><br>If the following n is given as input to the program:\n",
    "<br>7\n",
    "<br><br>Then, the output of the program should be:\n",
    "<br>0,1,1,2,3,5,8,13"
   ]
  },
  {
   "cell_type": "code",
   "execution_count": 31,
   "id": "127122fb",
   "metadata": {},
   "outputs": [
    {
     "name": "stdout",
     "output_type": "stream",
     "text": [
      "Enter the input: 7\n",
      "0,1,1,2,3,5,8,13\n"
     ]
    }
   ],
   "source": [
    "def fibonacci_seq():\n",
    "    n = int(input(\"Enter the input: \"))\n",
    "    fib_list = [0,1]\n",
    "    [fib_list.append(fib_list[i -1] + fib_list[i -2]) for i in range(2,n+1)]\n",
    "    if n<=0:\n",
    "        print('+ve numbers only')\n",
    "    elif n == 1:\n",
    "        fib_list = [fib_list[0]]\n",
    "        print(*fib_list, sep = ',')\n",
    "    else:\n",
    "        print(*fib_list, sep = ',')\n",
    "fibonacci_seq()"
   ]
  },
  {
   "cell_type": "markdown",
   "id": "e5662e71",
   "metadata": {},
   "source": [
    "#### Question 4:\n",
    "<br>Assuming that we have some email addresses in the &quot;username@companyname.com&quot; format,\n",
    "<br>please write program to print the user name of a given email address. Both user names and company names are composed of letters only.\n",
    "<br>Example:\n",
    "<br>If the following email address is given as input to the program:\n",
    "<br>john@google.com\n",
    "<br>Then, the output of the program should be:\n",
    "<br>john"
   ]
  },
  {
   "cell_type": "code",
   "execution_count": 1,
   "id": "3b16762f",
   "metadata": {},
   "outputs": [
    {
     "name": "stdout",
     "output_type": "stream",
     "text": [
      "Enter the email address : john@google.com\n",
      "The email is : john@google.com \n",
      "The username is : john\n"
     ]
    }
   ],
   "source": [
    "def print_username():\n",
    "    email = input(\"Enter the email address : \")\n",
    "    username = email.split(\"@\")\n",
    "    print(f'The email is : {email} \\nThe username is : {username[0]}')\n",
    "for i in range(1):\n",
    "    print_username()"
   ]
  },
  {
   "cell_type": "markdown",
   "id": "ab232930",
   "metadata": {},
   "source": [
    "#### Question 5:\n",
    "<b/> Define a class named Shape and its subclass Square. The Square class has an init function which takes a length as argument. Both classes have a area function which can print the area of the shape where Shape&#39;s area is 0 by default."
   ]
  },
  {
   "cell_type": "code",
   "execution_count": 2,
   "id": "bde58f59",
   "metadata": {},
   "outputs": [
    {
     "data": {
      "text/plain": [
       "625"
      ]
     },
     "execution_count": 2,
     "metadata": {},
     "output_type": "execute_result"
    }
   ],
   "source": [
    "class Shape:\n",
    "    def area(self):\n",
    "        return 0\n",
    "class Square(Shape):\n",
    "    def __init__(self, length):\n",
    "        self.length = length\n",
    "    def area(self):\n",
    "        return self.length*self.length\n",
    "\n",
    "square = Square(25)\n",
    "square.area()\n",
    "        \n",
    "    "
   ]
  },
  {
   "cell_type": "code",
   "execution_count": null,
   "id": "db162f10",
   "metadata": {},
   "outputs": [],
   "source": []
  }
 ],
 "metadata": {
  "kernelspec": {
   "display_name": "Python 3 (ipykernel)",
   "language": "python",
   "name": "python3"
  },
  "language_info": {
   "codemirror_mode": {
    "name": "ipython",
    "version": 3
   },
   "file_extension": ".py",
   "mimetype": "text/x-python",
   "name": "python",
   "nbconvert_exporter": "python",
   "pygments_lexer": "ipython3",
   "version": "3.9.7"
  }
 },
 "nbformat": 4,
 "nbformat_minor": 5
}
