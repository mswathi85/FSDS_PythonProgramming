{
 "cells": [
  {
   "cell_type": "markdown",
   "id": "446773e5",
   "metadata": {},
   "source": [
    "#### 1. Write a Python program to Extract Unique values dictionary values?"
   ]
  },
  {
   "cell_type": "code",
   "execution_count": 1,
   "id": "86f34bf0",
   "metadata": {},
   "outputs": [
    {
     "data": {
      "text/plain": [
       "['Vijay', 'Swathi', 'Pranav', 'Sri']"
      ]
     },
     "execution_count": 1,
     "metadata": {},
     "output_type": "execute_result"
    }
   ],
   "source": [
    "def unique_dictvalues():\n",
    "    dict_val = {1:'Swathi', 2:'Pranav', 3:'Swathi', 4:'Vijay', 5:'Vijay', 6: 'Sri'}\n",
    "    result = list(set(dict_val.values()))\n",
    "    return result\n",
    "unique_dictvalues()"
   ]
  },
  {
   "cell_type": "markdown",
   "id": "68f58114",
   "metadata": {},
   "source": [
    "#### 2. Write a Python program to find the sum of all items in a dictionary?"
   ]
  },
  {
   "cell_type": "code",
   "execution_count": 8,
   "id": "449d2bac",
   "metadata": {},
   "outputs": [
    {
     "name": "stdout",
     "output_type": "stream",
     "text": [
      "The sum of all items is 70\n"
     ]
    }
   ],
   "source": [
    "dict_file = {'mango':10, 'pen':20, 'pencil':15, 'apple':25}\n",
    "print(f'The sum of all items is {sum(dict_file.values())}')"
   ]
  },
  {
   "cell_type": "markdown",
   "id": "ee700181",
   "metadata": {},
   "source": [
    "#### 3. Write a Python program to Merging two Dictionaries?"
   ]
  },
  {
   "cell_type": "code",
   "execution_count": 20,
   "id": "2e25330f",
   "metadata": {},
   "outputs": [
    {
     "name": "stdout",
     "output_type": "stream",
     "text": [
      "{'name': 'Pranav', 'email': 'sspp22002@gmail.com', 'sports': 'football', 'likes': 'coding'}\n"
     ]
    }
   ],
   "source": [
    "dict1 = {'name' :'Pranav', 'email':'sspp22002@gmail.com'}\n",
    "dict2 = {'sports':'football', 'likes':'coding'}\n",
    "dict1.update(dict2)\n",
    "print(dict1)"
   ]
  },
  {
   "cell_type": "markdown",
   "id": "132b29f6",
   "metadata": {},
   "source": [
    "#### 4. Write a Python program to convert key-values list to flat dictionary?"
   ]
  },
  {
   "cell_type": "code",
   "execution_count": 22,
   "id": "04dfbbf1",
   "metadata": {},
   "outputs": [
    {
     "name": "stdout",
     "output_type": "stream",
     "text": [
      "{'a': 1, 'b': 2, 'c': 3, 'd': 4}\n"
     ]
    }
   ],
   "source": [
    "lst_values =[('a',1),('b',2),('c',3),('d',4)]\n",
    "print(dict(lst_values))"
   ]
  },
  {
   "cell_type": "markdown",
   "id": "be6531bc",
   "metadata": {},
   "source": [
    "#### 5. Write a Python program to insertion at the beginning in OrderedDict?"
   ]
  },
  {
   "cell_type": "code",
   "execution_count": 24,
   "id": "acb9ca12",
   "metadata": {},
   "outputs": [
    {
     "name": "stdout",
     "output_type": "stream",
     "text": [
      "OrderedDict([('d', 4), ('a', 1), ('b', 2), ('c', 3)])\n"
     ]
    }
   ],
   "source": [
    "from collections import OrderedDict\n",
    "ordered_dict = OrderedDict({'a': 1, 'b': 2, 'c': 3, 'd': 4})\n",
    "ordered_dict.move_to_end('d', last = False)\n",
    "print(ordered_dict)\n"
   ]
  },
  {
   "cell_type": "markdown",
   "id": "38ebff55",
   "metadata": {},
   "source": [
    "#### 6. Write a Python program to check order of character in string using OrderedDict()?"
   ]
  },
  {
   "cell_type": "code",
   "execution_count": 25,
   "id": "ca446e55",
   "metadata": {},
   "outputs": [
    {
     "name": "stdout",
     "output_type": "stream",
     "text": [
      "The order of character is : [('a', 'bca'), ('b', 'ggs'), ('d', 'ter'), ('e', 'abc')]\n"
     ]
    }
   ],
   "source": [
    "from collections import OrderedDict\n",
    "check_order = OrderedDict({'e':'abc', 'a':'bca', 'd' :'ter', 'b':'ggs'})\n",
    "print(\"The order of character is :\",list(sorted(check_order.items())))"
   ]
  },
  {
   "cell_type": "markdown",
   "id": "eef88d6e",
   "metadata": {},
   "source": [
    "#### 7. Write a Python program to sort Python Dictionaries by Key or Value?"
   ]
  },
  {
   "cell_type": "code",
   "execution_count": 28,
   "id": "ca9afb2c",
   "metadata": {},
   "outputs": [
    {
     "name": "stdout",
     "output_type": "stream",
     "text": [
      "('a', 'bca') ('b', 'ggs') ('c', 'ere') ('d', 'ter') ('e', 'abc') "
     ]
    }
   ],
   "source": [
    "sort_dict = {'e':'abc', 'a':'bca', 'd' :'ter', 'b':'ggs', 'c':'ere'}\n",
    "for i in sorted(sort_dict):\n",
    "    print((i,sort_dict[i]), end = \" \")\n",
    "    "
   ]
  },
  {
   "cell_type": "code",
   "execution_count": null,
   "id": "cbdbedd1",
   "metadata": {},
   "outputs": [],
   "source": []
  }
 ],
 "metadata": {
  "kernelspec": {
   "display_name": "Python 3 (ipykernel)",
   "language": "python",
   "name": "python3"
  },
  "language_info": {
   "codemirror_mode": {
    "name": "ipython",
    "version": 3
   },
   "file_extension": ".py",
   "mimetype": "text/x-python",
   "name": "python",
   "nbconvert_exporter": "python",
   "pygments_lexer": "ipython3",
   "version": "3.9.7"
  }
 },
 "nbformat": 4,
 "nbformat_minor": 5
}
