{
 "cells": [
  {
   "cell_type": "markdown",
   "id": "7d5bf852",
   "metadata": {},
   "source": [
    "#### 1. Write a Python program to check if the given number is a Disarium Number?"
   ]
  },
  {
   "cell_type": "code",
   "execution_count": 7,
   "id": "cf03a930",
   "metadata": {},
   "outputs": [
    {
     "name": "stdout",
     "output_type": "stream",
     "text": [
      "Try another number\n"
     ]
    }
   ],
   "source": [
    "def disarium_number(a):\n",
    "    \n",
    "    num = a\n",
    "    l = len(str(num))\n",
    "    sum = 0\n",
    "    while num!=0:\n",
    "        rem = num%10\n",
    "        sum = sum + rem**l\n",
    "        l = l-1\n",
    "        num = num//10\n",
    "    if sum==a:\n",
    "        print(\"Its a Disarium Number\")\n",
    "    else:\n",
    "        print(\"Try another number\")\n",
    "disarium_number(96)"
   ]
  },
  {
   "cell_type": "markdown",
   "id": "2f1f11bb",
   "metadata": {},
   "source": [
    "#### 2. Write a Python program to print all disarium numbers between 1 to 100?"
   ]
  },
  {
   "cell_type": "code",
   "execution_count": 16,
   "id": "4215c67f",
   "metadata": {},
   "outputs": [
    {
     "name": "stdout",
     "output_type": "stream",
     "text": [
      "Enter an lower number:1\n",
      "Enter a upper number:100\n",
      "1 It is a disarium number\n",
      "2 It is a disarium number\n",
      "3 It is a disarium number\n",
      "4 It is a disarium number\n",
      "5 It is a disarium number\n",
      "6 It is a disarium number\n",
      "7 It is a disarium number\n",
      "8 It is a disarium number\n",
      "9 It is a disarium number\n",
      "89 It is a disarium number\n"
     ]
    }
   ],
   "source": [
    "        \n",
    "lower_limit = int(input(\"Enter an lower number:\"))\n",
    "upper_limit = int(input(\"Enter a upper number:\"))\n",
    "for i in range(lower_limit, upper_limit+1):\n",
    "    num = i\n",
    "    l = len(str(num))\n",
    "    sum = 0\n",
    "    while num!=0:\n",
    "        rem = num%10\n",
    "        sum = sum + rem**l\n",
    "        l = l-1\n",
    "        num = num//10\n",
    "   \n",
    "    \n",
    "    if sum == i:\n",
    "        print(i,\"It is a disarium number\")\n",
    "    "
   ]
  },
  {
   "cell_type": "markdown",
   "id": "bc2dd4c1",
   "metadata": {},
   "source": [
    "#### 3.Write a Python program to check if the given number is Happy Number?"
   ]
  },
  {
   "cell_type": "code",
   "execution_count": 8,
   "id": "a0bf8cb3",
   "metadata": {},
   "outputs": [
    {
     "data": {
      "text/plain": [
       "True"
      ]
     },
     "execution_count": 8,
     "metadata": {},
     "output_type": "execute_result"
    }
   ],
   "source": [
    "def happy_number(a):\n",
    "    n = a\n",
    "    while n//10>0:\n",
    "        \n",
    "        sum = 0\n",
    "        while n>0:\n",
    "        \n",
    "            sum += (n % 10) ** 2\n",
    "            n //= 10\n",
    "        n = sum\n",
    "    \n",
    "    return True if n == 1 else False\n",
    "\n",
    "\n",
    "# l = set()\n",
    "# while happy_number(n) not in l:\n",
    "#     result = sum\n",
    "\n",
    "happy_number(94)"
   ]
  },
  {
   "cell_type": "markdown",
   "id": "df069a20",
   "metadata": {},
   "source": [
    "#### 4. Write a Python program to print all happy numbers between 1 and 100?"
   ]
  },
  {
   "cell_type": "code",
   "execution_count": 22,
   "id": "2d66caf0",
   "metadata": {},
   "outputs": [
    {
     "name": "stdout",
     "output_type": "stream",
     "text": [
      "Enter a number:1\n",
      "Enter a number:100\n",
      "100\n"
     ]
    }
   ],
   "source": [
    "upper_lt = int(input(\"Enter a number:\"))\n",
    "lower_lt = int(input(\"Enter a number:\"))\n",
    "for i in range(lower_lt,upper_lt+1):\n",
    "    n = i\n",
    "    while n//10>0:\n",
    "        sum = 0\n",
    "        while n>0:\n",
    "            sum += (n % 10) ** 2\n",
    "            n //= 10\n",
    "        n = sum\n",
    "print(i)\n",
    "    \n",
    "\n"
   ]
  },
  {
   "cell_type": "markdown",
   "id": "c9a5eb40",
   "metadata": {},
   "source": [
    "#### 5. Write a Python program to determine whether the given number is a Harshad Number?"
   ]
  },
  {
   "cell_type": "code",
   "execution_count": 1,
   "id": "5f773a82",
   "metadata": {},
   "outputs": [
    {
     "name": "stdout",
     "output_type": "stream",
     "text": [
      "Enter a Number: 3252\n",
      "3252 is a Harshad Number\n",
      "Enter a Number: 65236\n",
      "65236 is a Not Harshad Number\n"
     ]
    }
   ],
   "source": [
    "def checkHarshadNumber():\n",
    "    in_num = input('Enter a Number: ')\n",
    "    sum = 0\n",
    "    for item in range(len(in_num)):\n",
    "        sum = sum + int(in_num[item])\n",
    "    if int(in_num)%sum == 0:\n",
    "        print(f'{in_num} is a Harshad Number')\n",
    "    else:\n",
    "        print(f'{in_num} is a Not Harshad Number')\n",
    "checkHarshadNumber()\n",
    "checkHarshadNumber()"
   ]
  },
  {
   "cell_type": "markdown",
   "id": "c702b7d7",
   "metadata": {},
   "source": [
    "#### 6. Write a Python program to print all pronic numbers between 1 and 100?"
   ]
  },
  {
   "cell_type": "code",
   "execution_count": 3,
   "id": "b01178d7",
   "metadata": {},
   "outputs": [
    {
     "name": "stdout",
     "output_type": "stream",
     "text": [
      "[0, 2, 6, 12, 20, 30, 42, 56, 72, 90, 110, 132, 156, 182, 210, 240, 272, 306, 342, 380, 420, 462, 506, 552, 600, 650, 702, 756, 812, 870, 930, 992, 1056, 1122, 1190, 1260, 1332, 1406, 1482, 1560, 1640, 1722, 1806, 1892, 1980, 2070, 2162, 2256, 2352, 2450, 2550, 2652, 2756, 2862, 2970, 3080, 3192, 3306, 3422, 3540, 3660, 3782, 3906, 4032, 4160, 4290, 4422, 4556, 4692, 4830, 4970, 5112, 5256, 5402, 5550, 5700, 5852, 6006, 6162, 6320, 6480, 6642, 6806, 6972, 7140, 7310, 7482, 7656, 7832, 8010, 8190, 8372, 8556, 8742, 8930, 9120, 9312, 9506, 9702, 9900, 10100]\n"
     ]
    }
   ],
   "source": [
    "def printPronicNumbers(start=0,end=100):\n",
    "    outputList = []\n",
    "    for ele in range(start,end+1):\n",
    "        outputList.append((ele)*(ele+1))\n",
    "    print(outputList)\n",
    "                   \n",
    "printPronicNumbers()"
   ]
  },
  {
   "cell_type": "code",
   "execution_count": null,
   "id": "34d81563",
   "metadata": {},
   "outputs": [],
   "source": []
  }
 ],
 "metadata": {
  "kernelspec": {
   "display_name": "Python 3 (ipykernel)",
   "language": "python",
   "name": "python3"
  },
  "language_info": {
   "codemirror_mode": {
    "name": "ipython",
    "version": 3
   },
   "file_extension": ".py",
   "mimetype": "text/x-python",
   "name": "python",
   "nbconvert_exporter": "python",
   "pygments_lexer": "ipython3",
   "version": "3.9.7"
  }
 },
 "nbformat": 4,
 "nbformat_minor": 5
}
