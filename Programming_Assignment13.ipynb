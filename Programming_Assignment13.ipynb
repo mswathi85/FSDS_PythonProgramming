{
 "cells": [
  {
   "cell_type": "markdown",
   "id": "cf194d7f",
   "metadata": {},
   "source": [
    "#### Question 1: \n",
    "<br><b>Write a program that calculates and prints the value according to the given formula:</b>\n",
    "<br><b>`Q = Square root of [(2 * C * D)/H]`</b>\n",
    "<br>Following are the fixed values of C and H:\n",
    "<br>C is 50. H is 30.\n",
    "<br>D is the variable whose values should be input to your program in a comma-separated\n",
    "sequence.\n",
    "<br>Example\n",
    "<br>Let us assume the following comma separated input sequence is given to the program:\n",
    "<br>100,150,180\n",
    "<br>The output of the program should be:\n",
    "<br>18,22,24"
   ]
  },
  {
   "cell_type": "code",
   "execution_count": 1,
   "id": "284869ca",
   "metadata": {},
   "outputs": [
    {
     "name": "stdout",
     "output_type": "stream",
     "text": [
      "Enter the values : \n",
      "100,150,180\n",
      "The Output is: \n",
      "18,22,24,"
     ]
    }
   ],
   "source": [
    "D = [int(num) for num in input('Enter the values : \\n').split(',')]\n",
    "C = 50\n",
    "H = 30\n",
    "res = []\n",
    "for i in range(len(D)):\n",
    "    Q = ((2*C*D[i])/H)**0.5\n",
    "    res.append(Q)\n",
    "print(f'The Output is: ')\n",
    "for j in range(len(res)):\n",
    "    print(round(int(res[j]), 0), end=\",\")"
   ]
  },
  {
   "cell_type": "markdown",
   "id": "ce3cbcd7",
   "metadata": {},
   "source": [
    "#### Question 2:\n",
    "<br><b>Write a program which takes 2 digits, X,Y as input and generates a 2-dimensional array. The element value in the i-th row and j-th column of the array should be i*j.</b>\n",
    "<br>Note: i=0,1.., X-1; j=0,1,¡Y-1.\n",
    "<br>Example\n",
    "<br>Suppose the following inputs are given to the program:\n",
    "<br>3,5\n",
    "<br>Then, the output of the program should be:\n",
    "<br>[[0, 0, 0, 0, 0], [0, 1, 2, 3, 4], [0, 2, 4, 6, 8]]"
   ]
  },
  {
   "cell_type": "code",
   "execution_count": 2,
   "id": "17f09205",
   "metadata": {},
   "outputs": [
    {
     "name": "stdout",
     "output_type": "stream",
     "text": [
      "Enter a value : 3\n",
      "Enter a value : 5\n",
      "[[0, 0, 0, 0, 0], [0, 1, 2, 3, 4], [0, 2, 4, 6, 8]]\n"
     ]
    }
   ],
   "source": [
    "X = int(input(\"Enter a value : \"))\n",
    "Y = int(input(\"Enter a value : \"))\n",
    "mat = []\n",
    "for i in range(X):\n",
    "    l = []\n",
    "    for j in range(Y):\n",
    "        l.append(i * j)\n",
    "    mat.append(l)\n",
    "print(mat)"
   ]
  },
  {
   "cell_type": "markdown",
   "id": "f8e02c9b",
   "metadata": {},
   "source": [
    "#### Question 3:\n",
    "<br><b>Write a program that accepts a comma separated sequence of words as input and prints the words in a comma-separated sequence after sorting them alphabetically.</b>\n",
    "<br>Suppose the following input is supplied to the program:\n",
    "<br>without,hello,bag,world\n",
    "<br>Then, the output should be:\n",
    "<br>bag,hello,without,world"
   ]
  },
  {
   "cell_type": "code",
   "execution_count": 3,
   "id": "d4c5e6b5",
   "metadata": {},
   "outputs": [
    {
     "name": "stdout",
     "output_type": "stream",
     "text": [
      "Enter the values :\n",
      "without,hello,bag,world\n",
      "bag,hello,without,world,"
     ]
    }
   ],
   "source": [
    "def comma_sep_seq():\n",
    "    seq = input(\"Enter the values :\\n\")\n",
    "    stri = []\n",
    "    for ele in seq.split(\",\"):\n",
    "        stri.append(ele)\n",
    "        stri.sort()\n",
    "    for j in stri:\n",
    "        print(str(j), end = ',')\n",
    "        \n",
    "        \n",
    "        \n",
    "comma_sep_seq()"
   ]
  },
  {
   "cell_type": "markdown",
   "id": "2e0c0068",
   "metadata": {},
   "source": [
    "#### Question 4:\n",
    "<br><b>Write a program that accepts a sequence of whitespace separated words as input and prints the words after removing all duplicate words and sorting them alphanumerically.</b>\n",
    "<br>Suppose the following input is supplied to the program:\n",
    "<br>hello world and practice makes perfect and hello world again\n",
    "<br>Then, the output should be:\n",
    "<br>again and hello makes perfect practice world"
   ]
  },
  {
   "cell_type": "code",
   "execution_count": 4,
   "id": "0e03d9e2",
   "metadata": {},
   "outputs": [
    {
     "name": "stdout",
     "output_type": "stream",
     "text": [
      "Enter the values :\n",
      "hello world and practice makes perfect and hello world again\n",
      "again and hello makes perfect practice world "
     ]
    }
   ],
   "source": [
    "def seq_whitespace():\n",
    "    seq = input(\"Enter the values :\\n\")\n",
    "    stri = []\n",
    "    for ele in seq.split(\" \"):\n",
    "        stri.append(ele)\n",
    "        stri.sort()\n",
    "    for j in sorted(set(sorted(stri))):\n",
    "        print(str(j), end = ' ')\n",
    "seq_whitespace()"
   ]
  },
  {
   "cell_type": "markdown",
   "id": "2498c824",
   "metadata": {},
   "source": [
    "#### Question 5:\n",
    "<br><b>Write a program that accepts a sentence and calculate the number of letters and digits.</b>\n",
    "<br>Suppose the following input is supplied to the program:\n",
    "<br>hello world! 123\n",
    "<br>Then, the output should be:\n",
    "<br>LETTERS 10\n",
    "<br>DIGITS 3"
   ]
  },
  {
   "cell_type": "code",
   "execution_count": 5,
   "id": "eda7975d",
   "metadata": {},
   "outputs": [
    {
     "name": "stdout",
     "output_type": "stream",
     "text": [
      "Enter a sentence: hello world! 123\n",
      "LETTERS 10 \n",
      " DIGITS 3\n"
     ]
    }
   ],
   "source": [
    "def number_letter_digit():\n",
    "    sentence = input(\"Enter a sentence: \")\n",
    "    letter = 0\n",
    "    digit = 0\n",
    "    for ele in sentence:\n",
    "        if ele.isalpha():\n",
    "            letter = letter + 1\n",
    "        elif ele.isdigit():\n",
    "            digit = digit + 1\n",
    "        else:\n",
    "            pass\n",
    "    print(f'LETTERS {letter} \\n DIGITS {digit}')\n",
    "number_letter_digit()            "
   ]
  },
  {
   "cell_type": "markdown",
   "id": "ad182582",
   "metadata": {},
   "source": [
    "#### Question 6:\n",
    "<br><b>A website requires the users to input username and password to register. Write a program to check the validity of password input by users.</b>\n",
    "<br>Following are the criteria for checking the password:\n",
    "<br>1. At least 1 letter between [a-z]\n",
    "<br>2. At least 1 number between [0-9]\n",
    "<br>3. At least 1 letter between [A-Z]\n",
    "<br>4. At least 1 character from [$#@]\n",
    "<br>5. Minimum length of transaction password: 6\n",
    "<br>6. Maximum length of transaction password: 12\n",
    "<br> Your program should accept a sequence of comma separated passwords and will check them according to the above criteria. <br> Passwords that match the criteria are to be printed, each separated by a comma.\n",
    "<br>Example\n",
    "<br>If the following passwords are given as input to the program:\n",
    "<br>ABd1234@1,a F1#,2w3E*,2We3345\n",
    "<br>Then, the output of the program should be:\n",
    "<br>ABd1234@1"
   ]
  },
  {
   "cell_type": "code",
   "execution_count": 6,
   "id": "c0f33f5e",
   "metadata": {},
   "outputs": [
    {
     "name": "stdout",
     "output_type": "stream",
     "text": [
      "Enter the passwords: ABd1234@1,a F1#,2w3E*,2We3345\n",
      "ABd1234@1\n"
     ]
    }
   ],
   "source": [
    "def validy_check_pwd():\n",
    "    pwd = input(\"Enter the passwords: \")\n",
    "    char = \"$#@\"\n",
    "    for ele in pwd.split(','):\n",
    "        if len(ele) <= 12 and len(ele) >=6 :\n",
    "            if any(i.isupper() for i in ele):\n",
    "                if any(i.islower() for i in ele):\n",
    "                    if any(i for i in ele if i in char):\n",
    "                        if any(i.isdigit() for i in ele):\n",
    "                            print(ele)\n",
    "                               \n",
    "validy_check_pwd()        "
   ]
  },
  {
   "cell_type": "code",
   "execution_count": null,
   "id": "c97b777a",
   "metadata": {},
   "outputs": [],
   "source": []
  }
 ],
 "metadata": {
  "kernelspec": {
   "display_name": "Python 3 (ipykernel)",
   "language": "python",
   "name": "python3"
  },
  "language_info": {
   "codemirror_mode": {
    "name": "ipython",
    "version": 3
   },
   "file_extension": ".py",
   "mimetype": "text/x-python",
   "name": "python",
   "nbconvert_exporter": "python",
   "pygments_lexer": "ipython3",
   "version": "3.9.7"
  }
 },
 "nbformat": 4,
 "nbformat_minor": 5
}
