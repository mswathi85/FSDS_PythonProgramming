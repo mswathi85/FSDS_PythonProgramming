{
 "cells": [
  {
   "cell_type": "markdown",
   "id": "0dffafc7",
   "metadata": {},
   "source": [
    "#### 1. Write a Python program to find words which are greater than given length k?"
   ]
  },
  {
   "cell_type": "code",
   "execution_count": 1,
   "id": "74fcad5a",
   "metadata": {},
   "outputs": [
    {
     "name": "stdout",
     "output_type": "stream",
     "text": [
      "Enter the string value :This is an Ineuron Programming Assignment\n",
      "Enter the length of the word :5\n",
      "Ineuron,Programming,Assignment\n"
     ]
    }
   ],
   "source": [
    "def wordsgreatercheck():\n",
    "    string = input(\"Enter the string value :\")\n",
    "    len_word = int(input(\"Enter the length of the word :\"))\n",
    "    empty_list = []\n",
    "    for word in string.split(\" \"):\n",
    "        if len(word) > len_word:\n",
    "            empty_list.append(word)\n",
    "    print(\",\".join(empty_list))\n",
    "    \n",
    "wordsgreatercheck()\n",
    "        "
   ]
  },
  {
   "cell_type": "markdown",
   "id": "f945fad3",
   "metadata": {},
   "source": [
    "#### 2. Write a Python program for removing i-th character from a string?"
   ]
  },
  {
   "cell_type": "code",
   "execution_count": 3,
   "id": "4a5dc3b5",
   "metadata": {},
   "outputs": [
    {
     "name": "stdout",
     "output_type": "stream",
     "text": [
      "Ënter a string :This is an Ineuron Programming Assignment\n",
      "Enter the ith character to remove:12\n",
      " This is an Ieuron Programming Assignment\n"
     ]
    }
   ],
   "source": [
    "def remove_ith_char():\n",
    "    string = input(\"Ënter a string :\")\n",
    "    len_char = int(input(\"Enter the ith character to remove :\"))\n",
    "    output = \" \"\n",
    "    for character in range(len(string)):\n",
    "        if character != len_char:\n",
    "            output = output + string[character]\n",
    "    print(output)\n",
    "        \n",
    "remove_ith_char()"
   ]
  },
  {
   "cell_type": "markdown",
   "id": "64249eb9",
   "metadata": {},
   "source": [
    "#### 3. Write a Python program to split and join a string?"
   ]
  },
  {
   "cell_type": "code",
   "execution_count": 20,
   "id": "731462c1",
   "metadata": {},
   "outputs": [
    {
     "name": "stdout",
     "output_type": "stream",
     "text": [
      "Enter a string : This is an Empty bottle\n",
      "The split is : ['This', 'is', 'an', 'Empty', 'bottle']\n",
      "The join is : This-is-an-Empty-bottle\n"
     ]
    }
   ],
   "source": [
    "def split_join():\n",
    "    string = input(\"Enter a string : \")\n",
    "    print( f\"The split is : {string.split(' ')}\")\n",
    "    print(f\"The join is : {'-'.join(string.split(' '))}\")\n",
    "split_join()"
   ]
  },
  {
   "cell_type": "markdown",
   "id": "b9ea1b59",
   "metadata": {},
   "source": [
    "#### 4. Write a Python to check if a given string is binary string or not?"
   ]
  },
  {
   "cell_type": "code",
   "execution_count": 25,
   "id": "74efb25b",
   "metadata": {},
   "outputs": [
    {
     "name": "stdout",
     "output_type": "stream",
     "text": [
      "Enter a string : 123456\n",
      "No, This is not a binary String\n",
      "Enter a string : 1011010001\n",
      "Yes, It is a binary String\n"
     ]
    }
   ],
   "source": [
    "def checkstringbinary():\n",
    "    string = input(\"Enter a string : \")\n",
    "    value = '01'\n",
    "    count = 0\n",
    "    for char in string:\n",
    "        if char not in value:\n",
    "            count = 1\n",
    "            break\n",
    "        else:\n",
    "            pass\n",
    "    if count:\n",
    "        print(\"No, This is not a binary String\")\n",
    "    else:\n",
    "        print(\"Yes, It is a binary String\")\n",
    "        \n",
    "checkstringbinary()\n",
    "checkstringbinary()\n"
   ]
  },
  {
   "cell_type": "markdown",
   "id": "dd7eb6c5",
   "metadata": {},
   "source": [
    "#### 5. Write a Python program to find uncommon words from two Strings?"
   ]
  },
  {
   "cell_type": "code",
   "execution_count": 33,
   "id": "a572a4db",
   "metadata": {},
   "outputs": [
    {
     "name": "stdout",
     "output_type": "stream",
     "text": [
      "Ënter a String :This is a Course\n",
      "Ënter a String :This is a Ineuron Course\n",
      "['Ineuron']\n"
     ]
    }
   ],
   "source": [
    "def uncommonwords():\n",
    "    string1 = input(\"Ënter a String :\")\n",
    "    string2 = input(\"Ënter a String :\")\n",
    "    \n",
    "    un_common = [i for i in \"\".join(string2).split() if i not in \"\".join(string1).split()]\n",
    "    return un_common\n",
    "print(uncommonwords())"
   ]
  },
  {
   "cell_type": "markdown",
   "id": "f0c02a77",
   "metadata": {},
   "source": [
    "#### 6. Write a Python to find all duplicate characters in string?"
   ]
  },
  {
   "cell_type": "code",
   "execution_count": 5,
   "id": "6e55a4d4",
   "metadata": {},
   "outputs": [
    {
     "name": "stdout",
     "output_type": "stream",
     "text": [
      "Enter a string :This is an Assignment in Python Programming\n",
      "The duplicate elements are:  ['m', 's', 'o', 'g', 'a', 't', 'n', 'h', 'P', ' ', 'i', 'r']\n"
     ]
    }
   ],
   "source": [
    "def dup_char_str():\n",
    "    string = input(\"Enter a string :\")\n",
    "    lst_dup = []\n",
    "    non_lst_dup = []\n",
    "    for ele in string:\n",
    "        if ele not in non_lst_dup:\n",
    "            non_lst_dup.append(ele)\n",
    "        else:\n",
    "            lst_dup.append(ele)\n",
    "    print(\"The duplicate elements are: \",list(set(lst_dup)))\n",
    "dup_char_str()        "
   ]
  },
  {
   "cell_type": "markdown",
   "id": "f12761e0",
   "metadata": {},
   "source": [
    "#### 7. Write a Python Program to check if a string contains any special character?"
   ]
  },
  {
   "cell_type": "code",
   "execution_count": 7,
   "id": "5b44a43d",
   "metadata": {},
   "outputs": [
    {
     "name": "stdout",
     "output_type": "stream",
     "text": [
      "Ënter a String :This is a FSDS Course @ Ineuron\n",
      "[]\n"
     ]
    }
   ],
   "source": [
    "def specialchar():\n",
    "    spl_chars = '[@_!#$%^&*()<>?/\\|}{~:]'\n",
    "    string = input(\"Ënter a String :\")\n",
    "    count = 0\n",
    "    lst = []\n",
    "    for ele in string:\n",
    "        if ele in spl_chars:\n",
    "            lst.append(ele)\n",
    "            count = count + 1\n",
    "    print(\"\"lst)\n",
    "\n",
    "specialchar()"
   ]
  },
  {
   "cell_type": "code",
   "execution_count": null,
   "id": "5654e476",
   "metadata": {},
   "outputs": [],
   "source": []
  }
 ],
 "metadata": {
  "kernelspec": {
   "display_name": "Python 3 (ipykernel)",
   "language": "python",
   "name": "python3"
  },
  "language_info": {
   "codemirror_mode": {
    "name": "ipython",
    "version": 3
   },
   "file_extension": ".py",
   "mimetype": "text/x-python",
   "name": "python",
   "nbconvert_exporter": "python",
   "pygments_lexer": "ipython3",
   "version": "3.9.7"
  }
 },
 "nbformat": 4,
 "nbformat_minor": 5
}
