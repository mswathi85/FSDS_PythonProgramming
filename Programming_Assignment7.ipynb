{
 "cells": [
  {
   "cell_type": "markdown",
   "id": "aebabbce",
   "metadata": {},
   "source": [
    "#### 1.  Write a Python Program to find sum of array?"
   ]
  },
  {
   "cell_type": "code",
   "execution_count": 7,
   "id": "5365450e",
   "metadata": {},
   "outputs": [],
   "source": [
    "def func_arr(*n):\n",
    "    sum = 0\n",
    "    for i in range(len(n)):\n",
    "        sum = sum + n[i]\n",
    "    return sum"
   ]
  },
  {
   "cell_type": "code",
   "execution_count": 10,
   "id": "5a81ac45",
   "metadata": {
    "scrolled": false
   },
   "outputs": [
    {
     "data": {
      "text/plain": [
       "15"
      ]
     },
     "execution_count": 10,
     "metadata": {},
     "output_type": "execute_result"
    }
   ],
   "source": [
    "func_arr(1,2,3,4,5)"
   ]
  },
  {
   "cell_type": "markdown",
   "id": "7e715b0e",
   "metadata": {},
   "source": [
    "#### 2. Write a Python Program to find largest element in an array?\n"
   ]
  },
  {
   "cell_type": "code",
   "execution_count": 2,
   "id": "fbcfd657",
   "metadata": {},
   "outputs": [
    {
     "name": "stdout",
     "output_type": "stream",
     "text": [
      "Enter the no.of Elements: 5\n",
      "5\n",
      "6\n",
      "8\n",
      "2\n",
      "15\n",
      "The maximum element in the given array is : 15\n"
     ]
    }
   ],
   "source": [
    "arr = []\n",
    "n = int(input(\"Enter the no.of Elements: \"))\n",
    "\n",
    "for i in range(n):\n",
    "    elements = int(input())\n",
    "    arr.append(elements) \n",
    "\n",
    "print(\"The maximum element in the given array is :\", max(arr))\n",
    "\n",
    "\n",
    "    "
   ]
  },
  {
   "cell_type": "markdown",
   "id": "a1504efc",
   "metadata": {},
   "source": [
    "#### 3. Write a Python Program for array rotation?"
   ]
  },
  {
   "cell_type": "code",
   "execution_count": 2,
   "id": "0fa6f58e",
   "metadata": {},
   "outputs": [
    {
     "name": "stdout",
     "output_type": "stream",
     "text": [
      "Length of array: 5\n",
      "10\n",
      "20\n",
      "30\n",
      "40\n",
      "50\n",
      "original array: [10, 20, 30, 40, 50] and \n",
      " rotated array is: [50, 40, 30, 20, 10]\n"
     ]
    }
   ],
   "source": [
    "arr = []\n",
    "size = int(input(\"Length of array: \"))\n",
    "for i in range(size):\n",
    "    elements = int(input())\n",
    "    arr.append(elements)\n",
    "    \n",
    "print(\"original array: {} and \\n rotated array is: {}\".format(arr,arr[::-1]))"
   ]
  },
  {
   "cell_type": "markdown",
   "id": "e902bada",
   "metadata": {},
   "source": [
    "#### 4. Write a Python Program to Split the array and add the first part to the end?"
   ]
  },
  {
   "cell_type": "code",
   "execution_count": 6,
   "id": "c732500b",
   "metadata": {},
   "outputs": [
    {
     "name": "stdout",
     "output_type": "stream",
     "text": [
      "Length of array: 6\n",
      "1\n",
      "2\n",
      "3\n",
      "4\n",
      "5\n",
      "6\n",
      "[1, 2, 3, 4, 5, 6]\n",
      "splitted part is:  [1, 2, 3]\n",
      "after spliting remaining array is:  [4, 5, 6]\n",
      "Final Array:  [4, 5, 6, 1, 2, 3]\n"
     ]
    }
   ],
   "source": [
    "array = []\n",
    "size = int(input(\"Length of array: \"))\n",
    "for i in range(size):\n",
    "    elements = int(input())\n",
    "    array.append(elements)\n",
    "print(array)\n",
    "\n",
    "middle = size//2\n",
    "\n",
    "split_array = array[:middle]\n",
    "print(\"splitted part is: \",split_array)\n",
    "\n",
    "array = array[middle:]\n",
    "print(\"after spliting remaining array is: \",array)\n",
    "\n",
    "new_array = array+split_array\n",
    "print(\"Final Array: \",new_array)"
   ]
  },
  {
   "cell_type": "markdown",
   "id": "cf132fac",
   "metadata": {},
   "source": [
    "#### 5. Write a Python Program to check if given array is Monotonic?"
   ]
  },
  {
   "cell_type": "code",
   "execution_count": 7,
   "id": "83b7bbc0",
   "metadata": {},
   "outputs": [],
   "source": [
    "def monotonic(array):\n",
    "    return(all(array[i]<=array[i+1] for i in range(len(array)-1)) or \n",
    "           all(array[i]>=array[i+1] for i in range(len(array)-1)))"
   ]
  },
  {
   "cell_type": "code",
   "execution_count": 9,
   "id": "49c0f002",
   "metadata": {},
   "outputs": [
    {
     "name": "stdout",
     "output_type": "stream",
     "text": [
      "Length of array: 4\n",
      "4\n",
      "3\n",
      "3\n",
      "2\n",
      "[4, 3, 3, 2]\n",
      "True\n"
     ]
    }
   ],
   "source": [
    "arr = []\n",
    "size = int(input(\"Length of array: \"))\n",
    "for i in range(size):\n",
    "    elements = int(input())\n",
    "    arr.append(elements)\n",
    "print(arr)\n",
    "print(monotonic(array))"
   ]
  },
  {
   "cell_type": "code",
   "execution_count": null,
   "id": "d39982e3",
   "metadata": {},
   "outputs": [],
   "source": []
  }
 ],
 "metadata": {
  "kernelspec": {
   "display_name": "Python 3 (ipykernel)",
   "language": "python",
   "name": "python3"
  },
  "language_info": {
   "codemirror_mode": {
    "name": "ipython",
    "version": 3
   },
   "file_extension": ".py",
   "mimetype": "text/x-python",
   "name": "python",
   "nbconvert_exporter": "python",
   "pygments_lexer": "ipython3",
   "version": "3.9.7"
  }
 },
 "nbformat": 4,
 "nbformat_minor": 5
}
