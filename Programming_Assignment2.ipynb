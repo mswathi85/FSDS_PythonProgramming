{
 "cells": [
  {
   "cell_type": "markdown",
   "metadata": {},
   "source": [
    "#### 1. Write a Python program to convert kilometers to miles?"
   ]
  },
  {
   "cell_type": "code",
   "execution_count": 2,
   "metadata": {},
   "outputs": [
    {
     "name": "stdout",
     "output_type": "stream",
     "text": [
      "Enter a number in Kilometers: 2\n",
      "2.0 kilometers is equal to 1.242742 miles\n"
     ]
    }
   ],
   "source": [
    "kilometers = float(input(\"Enter a number in Kilometers: \"))\n",
    "# 1 km = 0.621371 miles\n",
    "conv_factor = 0.621371\n",
    "miles = kilometers * conv_factor\n",
    "print(f\"{kilometers} kilometers is equal to {miles} miles\")"
   ]
  },
  {
   "cell_type": "markdown",
   "metadata": {},
   "source": [
    "#### 2 . Write a Python program to convert Celsius to Fahrenheit?\n"
   ]
  },
  {
   "cell_type": "code",
   "execution_count": 5,
   "metadata": {},
   "outputs": [
    {
     "name": "stdout",
     "output_type": "stream",
     "text": [
      "Enter a number in Celsius :3\n",
      "3 degrees celsius is equal to 37.4 degrees Fahrenheit\n"
     ]
    }
   ],
   "source": [
    "celsius = int(input(\"Enter a number in Celsius :\"))\n",
    "#divide by 5, then multiply by 9 , add 32\n",
    "Fahrenheit = (celsius/5) * 9 + 32\n",
    "print(f\"{celsius} degrees celsius is equal to {Fahrenheit} degrees Fahrenheit\")"
   ]
  },
  {
   "cell_type": "markdown",
   "metadata": {},
   "source": [
    "#### 3. Write a Python program to display calendar?"
   ]
  },
  {
   "cell_type": "code",
   "execution_count": 6,
   "metadata": {},
   "outputs": [
    {
     "name": "stdout",
     "output_type": "stream",
     "text": [
      "Enter the year : 2022\n",
      "                                  2022\n",
      "\n",
      "      January                   February                   March\n",
      "Mo Tu We Th Fr Sa Su      Mo Tu We Th Fr Sa Su      Mo Tu We Th Fr Sa Su\n",
      "                1  2          1  2  3  4  5  6          1  2  3  4  5  6\n",
      " 3  4  5  6  7  8  9       7  8  9 10 11 12 13       7  8  9 10 11 12 13\n",
      "10 11 12 13 14 15 16      14 15 16 17 18 19 20      14 15 16 17 18 19 20\n",
      "17 18 19 20 21 22 23      21 22 23 24 25 26 27      21 22 23 24 25 26 27\n",
      "24 25 26 27 28 29 30      28                        28 29 30 31\n",
      "31\n",
      "\n",
      "       April                      May                       June\n",
      "Mo Tu We Th Fr Sa Su      Mo Tu We Th Fr Sa Su      Mo Tu We Th Fr Sa Su\n",
      "             1  2  3                         1             1  2  3  4  5\n",
      " 4  5  6  7  8  9 10       2  3  4  5  6  7  8       6  7  8  9 10 11 12\n",
      "11 12 13 14 15 16 17       9 10 11 12 13 14 15      13 14 15 16 17 18 19\n",
      "18 19 20 21 22 23 24      16 17 18 19 20 21 22      20 21 22 23 24 25 26\n",
      "25 26 27 28 29 30         23 24 25 26 27 28 29      27 28 29 30\n",
      "                          30 31\n",
      "\n",
      "        July                     August                  September\n",
      "Mo Tu We Th Fr Sa Su      Mo Tu We Th Fr Sa Su      Mo Tu We Th Fr Sa Su\n",
      "             1  2  3       1  2  3  4  5  6  7                1  2  3  4\n",
      " 4  5  6  7  8  9 10       8  9 10 11 12 13 14       5  6  7  8  9 10 11\n",
      "11 12 13 14 15 16 17      15 16 17 18 19 20 21      12 13 14 15 16 17 18\n",
      "18 19 20 21 22 23 24      22 23 24 25 26 27 28      19 20 21 22 23 24 25\n",
      "25 26 27 28 29 30 31      29 30 31                  26 27 28 29 30\n",
      "\n",
      "      October                   November                  December\n",
      "Mo Tu We Th Fr Sa Su      Mo Tu We Th Fr Sa Su      Mo Tu We Th Fr Sa Su\n",
      "                1  2          1  2  3  4  5  6                1  2  3  4\n",
      " 3  4  5  6  7  8  9       7  8  9 10 11 12 13       5  6  7  8  9 10 11\n",
      "10 11 12 13 14 15 16      14 15 16 17 18 19 20      12 13 14 15 16 17 18\n",
      "17 18 19 20 21 22 23      21 22 23 24 25 26 27      19 20 21 22 23 24 25\n",
      "24 25 26 27 28 29 30      28 29 30                  26 27 28 29 30 31\n",
      "31\n",
      " "
     ]
    }
   ],
   "source": [
    "import calendar\n",
    "year = int(input(\"Enter the year : \"))\n",
    "#month = int(input(\"Enter the month :\"))\n",
    "#print(calendar.month(year,month))\n",
    "print(calendar.calendar(year), end = \" \")"
   ]
  },
  {
   "cell_type": "markdown",
   "metadata": {},
   "source": [
    "#### 4. Write a Python program to solve quadratic equation?\n"
   ]
  },
  {
   "cell_type": "code",
   "execution_count": 25,
   "metadata": {},
   "outputs": [
    {
     "name": "stdout",
     "output_type": "stream",
     "text": [
      "Enter a number :3\n",
      "Enter a number :5\n",
      "Enter a number :6\n",
      "The solution is  -0.8+1.1j,-0.8-1.1j\n"
     ]
    }
   ],
   "source": [
    "import cmath\n",
    "## ax**2 + bx + c= 0\n",
    "a = int(input(\"Enter a number :\"))\n",
    "b = int(input(\"Enter a number :\"))\n",
    "c = int(input(\"Enter a number :\"))\n",
    "## (-b ± (b ** 2 - 4 * a * c) ** 0.5) / (2 * a) is the solution of quadratic equation\n",
    "solution1 = (-b +cmath.sqrt(b ** 2 - 4 * a * c)) / (2 * a)\n",
    "solution2 = (-b -cmath.sqrt(b ** 2 - 4 * a * c) ) / (2 * a)\n",
    "print(f\"The solution is  {solution1 : .1f},{solution2 : .1f}\")"
   ]
  },
  {
   "cell_type": "markdown",
   "metadata": {},
   "source": [
    "#### 5.Write a Python program to swap two variables without temp variable?"
   ]
  },
  {
   "cell_type": "code",
   "execution_count": 31,
   "metadata": {},
   "outputs": [
    {
     "name": "stdout",
     "output_type": "stream",
     "text": [
      "Enter a number :8\n",
      "Enter a number :9\n",
      "Before Swapping: \n",
      "Value of x :  8 and y :  9\n",
      "After Swapping: \n",
      "Value of x :  9 and y :  8\n"
     ]
    }
   ],
   "source": [
    "x = int(input(\"Enter a number :\"))\n",
    "y = int(input(\"Enter a number :\"))\n",
    "print(\"Before Swapping: \")\n",
    "print(\"Value of x : \", x, \"and y : \", y)\n",
    "x,y  = y,x\n",
    "print(\"After Swapping: \")\n",
    "print(\"Value of x : \", x, \"and y : \", y)\n"
   ]
  },
  {
   "cell_type": "code",
   "execution_count": null,
   "metadata": {},
   "outputs": [],
   "source": []
  }
 ],
 "metadata": {
  "kernelspec": {
   "display_name": "Python 3",
   "language": "python",
   "name": "python3"
  },
  "language_info": {
   "codemirror_mode": {
    "name": "ipython",
    "version": 3
   },
   "file_extension": ".py",
   "mimetype": "text/x-python",
   "name": "python",
   "nbconvert_exporter": "python",
   "pygments_lexer": "ipython3",
   "version": "3.8.5"
  }
 },
 "nbformat": 4,
 "nbformat_minor": 4
}
